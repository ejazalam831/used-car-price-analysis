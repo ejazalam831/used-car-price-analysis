{
 "cells": [
  {
   "cell_type": "markdown",
   "metadata": {},
   "source": [
    "# What drives the price of a car?\n",
    "\n",
    "![](kurt.jpeg)"
   ]
  },
  {
   "cell_type": "markdown",
   "metadata": {},
   "source": [
    "### OVERVIEW\n",
    "\n",
    "In this application, we will explore a dataset from kaggle. The original dataset contained information on 3 million used cars. The dataset we will use contains information on 426K cars to ensure speed of processing.  Our goal is to understand what factors make a car more or less expensive.  As a result of our analysis, we should be able to provide clear recommendations to our client -- a used car dealership -- as to what consumers value in a used car."
   ]
  },
  {
   "cell_type": "markdown",
   "metadata": {},
   "source": [
    "### CRISP-DM Framework\n",
    "\n",
    "<center>\n",
    "    <img src = crisp.png width = 50%/>\n",
    "</center>\n",
    "\n",
    "\n",
    "To frame the task, throughout our practical applications we will refer back to a standard process in industry for data projects called CRISP-DM.  This process provides a framework for working through a data problem.  Our first step in this application will be to read through a brief overview of CRISP-DM [here](https://mo-pcco.s3.us-east-1.amazonaws.com/BH-PCMLAI/module_11/readings_starter.zip).  After reading the overview, we will answer the questions below."
   ]
  },
  {
   "cell_type": "markdown",
   "metadata": {},
   "source": [
    "### Business Understanding\n",
    "Our client, a used car dealership, seeks to understand the key factors influencing used car prices to optimize their inventory and pricing strategy. To address this business need, we can reframe the task as a data-driven problem."
   ]
  },
  {
   "cell_type": "markdown",
   "metadata": {},
   "source": [
    "This challenge can be formulated as a supervised machine learning task, specifically a regression problem. Our objective is to develop a predictive model that estimates the price of a used car (the target variable) based on various features or attributes (independent variables). The model will help identify the most significant factors affecting car prices. Key components of this data-driven approach include:\n",
    "\n",
    "1. Exploratory Data Analysis (EDA) to understand the relationships between different variables and the target variable (price).\n",
    "2. Feature engineering to identify the most influential factors affecting car prices.\n",
    "3. Building and comparing multiple models to predict car prices.\n",
    "4. Evaluating model performance using appropriate metrics such as Root Mean Squared Error (RMSE), Mean Absolute Error (MAE) and R-squared (R²).\n",
    "5. Validating the models using cross-validation techniques to ensure generalizability.\n",
    "6. Interpreting the model coefficients or feature importances to determine which factors have the strongest impact on used car prices.\n",
    "\n",
    "This way, we can provide data-driven insights to the used car dealership about the key factors influencing car prices, which would enable them to make informed decisions."
   ]
  },
  {
   "cell_type": "markdown",
   "metadata": {},
   "source": [
    "### Data Understanding\n",
    "\n",
    "After considering the business understanding, we want to get familiar with our data.  More specifically, we would take appropriate steps to get to know the dataset, explore what information it contains, identify any quality issues within and how this could be used to inform our business understanding."
   ]
  },
  {
   "cell_type": "code",
   "execution_count": 7,
   "metadata": {},
   "outputs": [],
   "source": [
    "# Import necessary libraries\n",
    "import pandas as pd\n",
    "import numpy as np\n",
    "from datetime import datetime\n",
    "\n",
    "from sklearn.preprocessing import OneHotEncoder, StandardScaler\n",
    "from sklearn.compose import ColumnTransformer\n",
    "from sklearn.model_selection import train_test_split, cross_val_score, GridSearchCV\n",
    "from sklearn.linear_model import LinearRegression\n",
    "from sklearn.ensemble import RandomForestRegressor\n",
    "from sklearn.tree import DecisionTreeRegressor\n",
    "from sklearn.metrics import mean_squared_error, r2_score\n",
    "\n",
    "import matplotlib.pyplot as plt\n",
    "import seaborn as sns"
   ]
  },
  {
   "cell_type": "markdown",
   "metadata": {},
   "source": [
    "#### 1. Load and Inspect the Dataset\n",
    "To get an initial sense of the data, we will take a look at few rows of the dataset. This will help us understand the structure and some sample entries in the dataset."
   ]
  },
  {
   "cell_type": "code",
   "execution_count": 9,
   "metadata": {},
   "outputs": [
    {
     "name": "stdout",
     "output_type": "stream",
     "text": [
      "Shape of the dataset: (426880, 18)\n"
     ]
    },
    {
     "data": {
      "text/html": [
       "<div>\n",
       "<style scoped>\n",
       "    .dataframe tbody tr th:only-of-type {\n",
       "        vertical-align: middle;\n",
       "    }\n",
       "\n",
       "    .dataframe tbody tr th {\n",
       "        vertical-align: top;\n",
       "    }\n",
       "\n",
       "    .dataframe thead th {\n",
       "        text-align: right;\n",
       "    }\n",
       "</style>\n",
       "<table border=\"1\" class=\"dataframe\">\n",
       "  <thead>\n",
       "    <tr style=\"text-align: right;\">\n",
       "      <th></th>\n",
       "      <th>id</th>\n",
       "      <th>region</th>\n",
       "      <th>price</th>\n",
       "      <th>year</th>\n",
       "      <th>manufacturer</th>\n",
       "      <th>model</th>\n",
       "      <th>condition</th>\n",
       "      <th>cylinders</th>\n",
       "      <th>fuel</th>\n",
       "      <th>odometer</th>\n",
       "      <th>title_status</th>\n",
       "      <th>transmission</th>\n",
       "      <th>VIN</th>\n",
       "      <th>drive</th>\n",
       "      <th>size</th>\n",
       "      <th>type</th>\n",
       "      <th>paint_color</th>\n",
       "      <th>state</th>\n",
       "    </tr>\n",
       "  </thead>\n",
       "  <tbody>\n",
       "    <tr>\n",
       "      <th>351724</th>\n",
       "      <td>7314796357</td>\n",
       "      <td>chattanooga</td>\n",
       "      <td>28995</td>\n",
       "      <td>2012.0</td>\n",
       "      <td>ford</td>\n",
       "      <td>econoline commercial</td>\n",
       "      <td>NaN</td>\n",
       "      <td>NaN</td>\n",
       "      <td>gas</td>\n",
       "      <td>93923.0</td>\n",
       "      <td>clean</td>\n",
       "      <td>automatic</td>\n",
       "      <td>1FC3E3KL4CDB34837</td>\n",
       "      <td>NaN</td>\n",
       "      <td>NaN</td>\n",
       "      <td>NaN</td>\n",
       "      <td>white</td>\n",
       "      <td>tn</td>\n",
       "    </tr>\n",
       "    <tr>\n",
       "      <th>155848</th>\n",
       "      <td>7314820570</td>\n",
       "      <td>cedar rapids</td>\n",
       "      <td>20988</td>\n",
       "      <td>2016.0</td>\n",
       "      <td>mazda</td>\n",
       "      <td>cx-5 touring</td>\n",
       "      <td>NaN</td>\n",
       "      <td>4 cylinders</td>\n",
       "      <td>gas</td>\n",
       "      <td>20197.0</td>\n",
       "      <td>clean</td>\n",
       "      <td>automatic</td>\n",
       "      <td>JM3KE4CY1G0632705</td>\n",
       "      <td>4wd</td>\n",
       "      <td>NaN</td>\n",
       "      <td>SUV</td>\n",
       "      <td>black</td>\n",
       "      <td>ia</td>\n",
       "    </tr>\n",
       "    <tr>\n",
       "      <th>374691</th>\n",
       "      <td>7316499872</td>\n",
       "      <td>houston</td>\n",
       "      <td>35000</td>\n",
       "      <td>2015.0</td>\n",
       "      <td>gmc</td>\n",
       "      <td>sierra 1500 slt</td>\n",
       "      <td>excellent</td>\n",
       "      <td>8 cylinders</td>\n",
       "      <td>gas</td>\n",
       "      <td>107250.0</td>\n",
       "      <td>clean</td>\n",
       "      <td>automatic</td>\n",
       "      <td>NaN</td>\n",
       "      <td>4wd</td>\n",
       "      <td>NaN</td>\n",
       "      <td>NaN</td>\n",
       "      <td>NaN</td>\n",
       "      <td>tx</td>\n",
       "    </tr>\n",
       "    <tr>\n",
       "      <th>298246</th>\n",
       "      <td>7315365379</td>\n",
       "      <td>dayton / springfield</td>\n",
       "      <td>9999</td>\n",
       "      <td>2013.0</td>\n",
       "      <td>nissan</td>\n",
       "      <td>juke</td>\n",
       "      <td>NaN</td>\n",
       "      <td>NaN</td>\n",
       "      <td>gas</td>\n",
       "      <td>112639.0</td>\n",
       "      <td>clean</td>\n",
       "      <td>automatic</td>\n",
       "      <td>JN8AF5MVXDT216582</td>\n",
       "      <td>4wd</td>\n",
       "      <td>compact</td>\n",
       "      <td>wagon</td>\n",
       "      <td>NaN</td>\n",
       "      <td>oh</td>\n",
       "    </tr>\n",
       "    <tr>\n",
       "      <th>139313</th>\n",
       "      <td>7303957465</td>\n",
       "      <td>twin falls</td>\n",
       "      <td>18988</td>\n",
       "      <td>2014.0</td>\n",
       "      <td>gmc</td>\n",
       "      <td>yukon</td>\n",
       "      <td>good</td>\n",
       "      <td>8 cylinders</td>\n",
       "      <td>gas</td>\n",
       "      <td>173618.0</td>\n",
       "      <td>clean</td>\n",
       "      <td>automatic</td>\n",
       "      <td>1GKS2EEF1ER134519</td>\n",
       "      <td>4wd</td>\n",
       "      <td>full-size</td>\n",
       "      <td>SUV</td>\n",
       "      <td>grey</td>\n",
       "      <td>id</td>\n",
       "    </tr>\n",
       "  </tbody>\n",
       "</table>\n",
       "</div>"
      ],
      "text/plain": [
       "                id                region  price    year manufacturer  \\\n",
       "351724  7314796357           chattanooga  28995  2012.0         ford   \n",
       "155848  7314820570          cedar rapids  20988  2016.0        mazda   \n",
       "374691  7316499872               houston  35000  2015.0          gmc   \n",
       "298246  7315365379  dayton / springfield   9999  2013.0       nissan   \n",
       "139313  7303957465            twin falls  18988  2014.0          gmc   \n",
       "\n",
       "                       model  condition    cylinders fuel  odometer  \\\n",
       "351724  econoline commercial        NaN          NaN  gas   93923.0   \n",
       "155848          cx-5 touring        NaN  4 cylinders  gas   20197.0   \n",
       "374691       sierra 1500 slt  excellent  8 cylinders  gas  107250.0   \n",
       "298246                  juke        NaN          NaN  gas  112639.0   \n",
       "139313                 yukon       good  8 cylinders  gas  173618.0   \n",
       "\n",
       "       title_status transmission                VIN drive       size   type  \\\n",
       "351724        clean    automatic  1FC3E3KL4CDB34837   NaN        NaN    NaN   \n",
       "155848        clean    automatic  JM3KE4CY1G0632705   4wd        NaN    SUV   \n",
       "374691        clean    automatic                NaN   4wd        NaN    NaN   \n",
       "298246        clean    automatic  JN8AF5MVXDT216582   4wd    compact  wagon   \n",
       "139313        clean    automatic  1GKS2EEF1ER134519   4wd  full-size    SUV   \n",
       "\n",
       "       paint_color state  \n",
       "351724       white    tn  \n",
       "155848       black    ia  \n",
       "374691         NaN    tx  \n",
       "298246         NaN    oh  \n",
       "139313        grey    id  "
      ]
     },
     "execution_count": 9,
     "metadata": {},
     "output_type": "execute_result"
    }
   ],
   "source": [
    "df = pd.read_csv('vehicles.csv')\n",
    "print(f'Shape of the dataset: {df.shape}')\n",
    "df.sample(5)"
   ]
  },
  {
   "cell_type": "markdown",
   "metadata": {},
   "source": [
    "#### 2. Examine Basic Structure of the Dataset\n",
    "In this section we will try to understand the basic structure of the dataset such as column data types including non-null counts and numerical and categorical features."
   ]
  },
  {
   "cell_type": "code",
   "execution_count": 11,
   "metadata": {},
   "outputs": [
    {
     "name": "stdout",
     "output_type": "stream",
     "text": [
      "<class 'pandas.core.frame.DataFrame'>\n",
      "RangeIndex: 426880 entries, 0 to 426879\n",
      "Data columns (total 18 columns):\n",
      " #   Column        Non-Null Count   Dtype  \n",
      "---  ------        --------------   -----  \n",
      " 0   id            426880 non-null  int64  \n",
      " 1   region        426880 non-null  object \n",
      " 2   price         426880 non-null  int64  \n",
      " 3   year          425675 non-null  float64\n",
      " 4   manufacturer  409234 non-null  object \n",
      " 5   model         421603 non-null  object \n",
      " 6   condition     252776 non-null  object \n",
      " 7   cylinders     249202 non-null  object \n",
      " 8   fuel          423867 non-null  object \n",
      " 9   odometer      422480 non-null  float64\n",
      " 10  title_status  418638 non-null  object \n",
      " 11  transmission  424324 non-null  object \n",
      " 12  VIN           265838 non-null  object \n",
      " 13  drive         296313 non-null  object \n",
      " 14  size          120519 non-null  object \n",
      " 15  type          334022 non-null  object \n",
      " 16  paint_color   296677 non-null  object \n",
      " 17  state         426880 non-null  object \n",
      "dtypes: float64(2), int64(2), object(14)\n",
      "memory usage: 58.6+ MB\n"
     ]
    }
   ],
   "source": [
    "# Overview of column data types\n",
    "df.info()"
   ]
  },
  {
   "cell_type": "markdown",
   "metadata": {},
   "source": [
    "#### Observation\n",
    "The dataset contains 426,880 rows and 18 columns and includes both numerical and categorical data types."
   ]
  },
  {
   "cell_type": "code",
   "execution_count": 13,
   "metadata": {},
   "outputs": [
    {
     "data": {
      "text/html": [
       "<div>\n",
       "<style scoped>\n",
       "    .dataframe tbody tr th:only-of-type {\n",
       "        vertical-align: middle;\n",
       "    }\n",
       "\n",
       "    .dataframe tbody tr th {\n",
       "        vertical-align: top;\n",
       "    }\n",
       "\n",
       "    .dataframe thead th {\n",
       "        text-align: right;\n",
       "    }\n",
       "</style>\n",
       "<table border=\"1\" class=\"dataframe\">\n",
       "  <thead>\n",
       "    <tr style=\"text-align: right;\">\n",
       "      <th></th>\n",
       "      <th>id</th>\n",
       "      <th>price</th>\n",
       "      <th>year</th>\n",
       "      <th>odometer</th>\n",
       "    </tr>\n",
       "  </thead>\n",
       "  <tbody>\n",
       "    <tr>\n",
       "      <th>count</th>\n",
       "      <td>4.268800e+05</td>\n",
       "      <td>4.268800e+05</td>\n",
       "      <td>425675.000000</td>\n",
       "      <td>4.224800e+05</td>\n",
       "    </tr>\n",
       "    <tr>\n",
       "      <th>mean</th>\n",
       "      <td>7.311487e+09</td>\n",
       "      <td>7.519903e+04</td>\n",
       "      <td>2011.235191</td>\n",
       "      <td>9.804333e+04</td>\n",
       "    </tr>\n",
       "    <tr>\n",
       "      <th>std</th>\n",
       "      <td>4.473170e+06</td>\n",
       "      <td>1.218228e+07</td>\n",
       "      <td>9.452120</td>\n",
       "      <td>2.138815e+05</td>\n",
       "    </tr>\n",
       "    <tr>\n",
       "      <th>min</th>\n",
       "      <td>7.207408e+09</td>\n",
       "      <td>0.000000e+00</td>\n",
       "      <td>1900.000000</td>\n",
       "      <td>0.000000e+00</td>\n",
       "    </tr>\n",
       "    <tr>\n",
       "      <th>25%</th>\n",
       "      <td>7.308143e+09</td>\n",
       "      <td>5.900000e+03</td>\n",
       "      <td>2008.000000</td>\n",
       "      <td>3.770400e+04</td>\n",
       "    </tr>\n",
       "    <tr>\n",
       "      <th>50%</th>\n",
       "      <td>7.312621e+09</td>\n",
       "      <td>1.395000e+04</td>\n",
       "      <td>2013.000000</td>\n",
       "      <td>8.554800e+04</td>\n",
       "    </tr>\n",
       "    <tr>\n",
       "      <th>75%</th>\n",
       "      <td>7.315254e+09</td>\n",
       "      <td>2.648575e+04</td>\n",
       "      <td>2017.000000</td>\n",
       "      <td>1.335425e+05</td>\n",
       "    </tr>\n",
       "    <tr>\n",
       "      <th>max</th>\n",
       "      <td>7.317101e+09</td>\n",
       "      <td>3.736929e+09</td>\n",
       "      <td>2022.000000</td>\n",
       "      <td>1.000000e+07</td>\n",
       "    </tr>\n",
       "  </tbody>\n",
       "</table>\n",
       "</div>"
      ],
      "text/plain": [
       "                 id         price           year      odometer\n",
       "count  4.268800e+05  4.268800e+05  425675.000000  4.224800e+05\n",
       "mean   7.311487e+09  7.519903e+04    2011.235191  9.804333e+04\n",
       "std    4.473170e+06  1.218228e+07       9.452120  2.138815e+05\n",
       "min    7.207408e+09  0.000000e+00    1900.000000  0.000000e+00\n",
       "25%    7.308143e+09  5.900000e+03    2008.000000  3.770400e+04\n",
       "50%    7.312621e+09  1.395000e+04    2013.000000  8.554800e+04\n",
       "75%    7.315254e+09  2.648575e+04    2017.000000  1.335425e+05\n",
       "max    7.317101e+09  3.736929e+09    2022.000000  1.000000e+07"
      ]
     },
     "execution_count": 13,
     "metadata": {},
     "output_type": "execute_result"
    }
   ],
   "source": [
    "df.describe()"
   ]
  },
  {
   "cell_type": "markdown",
   "metadata": {},
   "source": [
    "#### Observations\n",
    "* 'price' ranges from 0 to 3,736,929,000, with a mean of 75,199. The minimum and maximum value seems unrealistic and could be an error.\n",
    "* 'year' ranges from 1900 to 2022, with a median of 2013.\n",
    "* 'odometer' ranges from 0 to 10,000,000, with a median of 85,548. Again, the maximum value seems unrealistic.\n",
    "\n",
    "We will further explore this by looking at the outliers later in data cleaning section."
   ]
  },
  {
   "cell_type": "code",
   "execution_count": 15,
   "metadata": {},
   "outputs": [
    {
     "name": "stdout",
     "output_type": "stream",
     "text": [
      "\n",
      "Value counts for region:\n",
      "columbus                   3608\n",
      "jacksonville               3562\n",
      "spokane / coeur d'alene    2988\n",
      "eugene                     2985\n",
      "fresno / madera            2983\n",
      "                           ... \n",
      "meridian                     28\n",
      "southwest MS                 14\n",
      "kansas city                  11\n",
      "fort smith, AR                9\n",
      "west virginia (old)           8\n",
      "Name: region, Length: 404, dtype: int64\n",
      "\n",
      "Value counts for manufacturer:\n",
      "ford               70985\n",
      "chevrolet          55064\n",
      "toyota             34202\n",
      "honda              21269\n",
      "nissan             19067\n",
      "jeep               19014\n",
      "ram                18342\n",
      "gmc                16785\n",
      "bmw                14699\n",
      "dodge              13707\n",
      "mercedes-benz      11817\n",
      "hyundai            10338\n",
      "subaru              9495\n",
      "volkswagen          9345\n",
      "kia                 8457\n",
      "lexus               8200\n",
      "audi                7573\n",
      "cadillac            6953\n",
      "chrysler            6031\n",
      "acura               5978\n",
      "buick               5501\n",
      "mazda               5427\n",
      "infiniti            4802\n",
      "lincoln             4220\n",
      "volvo               3374\n",
      "mitsubishi          3292\n",
      "mini                2376\n",
      "pontiac             2288\n",
      "rover               2113\n",
      "jaguar              1946\n",
      "porsche             1384\n",
      "mercury             1184\n",
      "saturn              1090\n",
      "alfa-romeo           897\n",
      "tesla                868\n",
      "fiat                 792\n",
      "harley-davidson      153\n",
      "ferrari               95\n",
      "datsun                63\n",
      "aston-martin          24\n",
      "land rover            21\n",
      "morgan                 3\n",
      "Name: manufacturer, dtype: int64\n",
      "\n",
      "Value counts for model:\n",
      "f-150                      8009\n",
      "silverado 1500             5140\n",
      "1500                       4211\n",
      "camry                      3135\n",
      "silverado                  3023\n",
      "                           ... \n",
      "plymouth fury 1               1\n",
      "f550 box truck delivery       1\n",
      "duramax 2500hd                1\n",
      "3 s sport                     1\n",
      "Paige Glenbrook Touring       1\n",
      "Name: model, Length: 29649, dtype: int64\n",
      "\n",
      "Value counts for condition:\n",
      "good         121456\n",
      "excellent    101467\n",
      "like new      21178\n",
      "fair           6769\n",
      "new            1305\n",
      "salvage         601\n",
      "Name: condition, dtype: int64\n",
      "\n",
      "Value counts for cylinders:\n",
      "6 cylinders     94169\n",
      "4 cylinders     77642\n",
      "8 cylinders     72062\n",
      "5 cylinders      1712\n",
      "10 cylinders     1455\n",
      "other            1298\n",
      "3 cylinders       655\n",
      "12 cylinders      209\n",
      "Name: cylinders, dtype: int64\n",
      "\n",
      "Value counts for fuel:\n",
      "gas         356209\n",
      "other        30728\n",
      "diesel       30062\n",
      "hybrid        5170\n",
      "electric      1698\n",
      "Name: fuel, dtype: int64\n",
      "\n",
      "Value counts for title_status:\n",
      "clean         405117\n",
      "rebuilt         7219\n",
      "salvage         3868\n",
      "lien            1422\n",
      "missing          814\n",
      "parts only       198\n",
      "Name: title_status, dtype: int64\n",
      "\n",
      "Value counts for transmission:\n",
      "automatic    336524\n",
      "other         62682\n",
      "manual        25118\n",
      "Name: transmission, dtype: int64\n",
      "\n",
      "Value counts for VIN:\n",
      "1FMJU1JT1HEA52352    261\n",
      "3C6JR6DT3KG560649    235\n",
      "1FTER1EH1LLA36301    231\n",
      "5TFTX4CN3EX042751    227\n",
      "1GCHTCE37G1186784    214\n",
      "                    ... \n",
      "1GCEK19J78Z219711      1\n",
      "JA4AT3AW1AZ006543      1\n",
      "4T1BF28B61U153724      1\n",
      "JTHCF5C25A5041393      1\n",
      "SAJGX2749VCOO8376      1\n",
      "Name: VIN, Length: 118246, dtype: int64\n",
      "\n",
      "Value counts for drive:\n",
      "4wd    131904\n",
      "fwd    105517\n",
      "rwd     58892\n",
      "Name: drive, dtype: int64\n",
      "\n",
      "Value counts for size:\n",
      "full-size      63465\n",
      "mid-size       34476\n",
      "compact        19384\n",
      "sub-compact     3194\n",
      "Name: size, dtype: int64\n",
      "\n",
      "Value counts for type:\n",
      "sedan          87056\n",
      "SUV            77284\n",
      "pickup         43510\n",
      "truck          35279\n",
      "other          22110\n",
      "coupe          19204\n",
      "hatchback      16598\n",
      "wagon          10751\n",
      "van             8548\n",
      "convertible     7731\n",
      "mini-van        4825\n",
      "offroad          609\n",
      "bus              517\n",
      "Name: type, dtype: int64\n",
      "\n",
      "Value counts for paint_color:\n",
      "white     79285\n",
      "black     62861\n",
      "silver    42970\n",
      "blue      31223\n",
      "red       30473\n",
      "grey      24416\n",
      "green      7343\n",
      "custom     6700\n",
      "brown      6593\n",
      "yellow     2142\n",
      "orange     1984\n",
      "purple      687\n",
      "Name: paint_color, dtype: int64\n",
      "\n",
      "Value counts for state:\n",
      "ca    50614\n",
      "fl    28511\n",
      "tx    22945\n",
      "ny    19386\n",
      "oh    17696\n",
      "or    17104\n",
      "mi    16900\n",
      "nc    15277\n",
      "wa    13861\n",
      "pa    13753\n",
      "wi    11398\n",
      "co    11088\n",
      "tn    11066\n",
      "va    10732\n",
      "il    10387\n",
      "nj     9742\n",
      "id     8961\n",
      "az     8679\n",
      "ia     8632\n",
      "ma     8174\n",
      "mn     7716\n",
      "ga     7003\n",
      "ok     6792\n",
      "sc     6327\n",
      "mt     6294\n",
      "ks     6209\n",
      "in     5704\n",
      "ct     5188\n",
      "al     4955\n",
      "md     4778\n",
      "nm     4425\n",
      "mo     4293\n",
      "ky     4149\n",
      "ar     4038\n",
      "ak     3474\n",
      "la     3196\n",
      "nv     3194\n",
      "nh     2981\n",
      "dc     2970\n",
      "me     2966\n",
      "hi     2964\n",
      "vt     2513\n",
      "ri     2320\n",
      "sd     1302\n",
      "ut     1150\n",
      "wv     1052\n",
      "ne     1036\n",
      "ms     1016\n",
      "de      949\n",
      "wy      610\n",
      "nd      410\n",
      "Name: state, dtype: int64\n"
     ]
    }
   ],
   "source": [
    "# Categorical columns\n",
    "categorical_columns = df.select_dtypes(include=['object']).columns\n",
    "for col in categorical_columns:\n",
    "    print(f\"\\nValue counts for {col}:\")\n",
    "    print(df[col].value_counts())"
   ]
  },
  {
   "cell_type": "markdown",
   "metadata": {},
   "source": [
    "#### Observations\n",
    "* 'region' has 404 unique values, which might be too granular for our modeling purposes.\n",
    "* 'manufacturer' shows Ford, Chevrolet, and Toyota as the top brands.\n",
    "* 'fuel' is predominantly gas, with some diesel, hybrid, and electric vehicles.\n",
    "* 'transmission' is mostly automatic, with some manual and 'other' categories."
   ]
  },
  {
   "cell_type": "markdown",
   "metadata": {},
   "source": [
    "#### 3. Identify Duplicate and Missing Values"
   ]
  },
  {
   "cell_type": "code",
   "execution_count": 18,
   "metadata": {},
   "outputs": [
    {
     "name": "stdout",
     "output_type": "stream",
     "text": [
      "Number of duplicate rows: 0\n"
     ]
    }
   ],
   "source": [
    "# Check for duplicates\n",
    "duplicates = df.duplicated().sum()\n",
    "print(f\"Number of duplicate rows: {duplicates}\")"
   ]
  },
  {
   "cell_type": "code",
   "execution_count": 19,
   "metadata": {},
   "outputs": [
    {
     "name": "stdout",
     "output_type": "stream",
     "text": [
      "Missing values:\n"
     ]
    },
    {
     "data": {
      "text/plain": [
       "id                   0\n",
       "region               0\n",
       "price                0\n",
       "year              1205\n",
       "manufacturer     17646\n",
       "model             5277\n",
       "condition       174104\n",
       "cylinders       177678\n",
       "fuel              3013\n",
       "odometer          4400\n",
       "title_status      8242\n",
       "transmission      2556\n",
       "VIN             161042\n",
       "drive           130567\n",
       "size            306361\n",
       "type             92858\n",
       "paint_color     130203\n",
       "state                0\n",
       "dtype: int64"
      ]
     },
     "execution_count": 19,
     "metadata": {},
     "output_type": "execute_result"
    }
   ],
   "source": [
    "# Check for missing values\n",
    "print('Missing values:')\n",
    "df.isnull().sum()"
   ]
  },
  {
   "cell_type": "markdown",
   "metadata": {},
   "source": [
    "#### Observations\n",
    "* No duplicate rows were found.\n",
    "* Several columns have a significant number of missing values.\n",
    "  \n",
    "In the next section, we will clean and prepare our data for further analysis."
   ]
  },
  {
   "cell_type": "markdown",
   "metadata": {},
   "source": [
    "### Data Preparation\n",
    "\n",
    "After our initial exploration and fine tuning of the business understanding, it is time to construct our final dataset prior to modeling.  Here, we want to make sure to handle any integrity issues and cleaning, the engineering of new features, any transformations that we believe should happen (scaling, logarithms, normalization, etc.), and general preparation for modeling with `sklearn`. "
   ]
  },
  {
   "cell_type": "markdown",
   "metadata": {},
   "source": [
    "#### 1. Data Cleaning\n",
    "In this section, first we will examine each column, decide on its relevance for our analysis, and then strategize on how to handle missing values. Finally, we will identify and handle any outliers."
   ]
  },
  {
   "cell_type": "code",
   "execution_count": 23,
   "metadata": {},
   "outputs": [],
   "source": [
    "# Drop columns that are not relevant for price prediction\n",
    "columns_to_drop = ['id', 'region', 'VIN', 'size']\n",
    "df = df.drop(columns=columns_to_drop)"
   ]
  },
  {
   "cell_type": "code",
   "execution_count": 24,
   "metadata": {},
   "outputs": [],
   "source": [
    "# Drop rows with missing values that are < 5% of the entire dataset\n",
    "threshold = 0.05 * len(df)\n",
    "\n",
    "# Identify columns with less than 5% missing values\n",
    "columns_to_check = df.columns[df.isnull().sum() < threshold].tolist()\n",
    "\n",
    "# Drop rows with missing values in these columns\n",
    "df = df.dropna(subset=columns_to_check)"
   ]
  },
  {
   "cell_type": "code",
   "execution_count": 25,
   "metadata": {},
   "outputs": [],
   "source": [
    "# Rows with missing values that are > 5% of the entire dataset, fill with 'unknown'\n",
    "# Identify columns with greater than 5% missing values\n",
    "columns_to_fill_unknown = df.columns[df.isnull().sum() > threshold].tolist()\n",
    "\n",
    "for column in columns_to_fill_unknown:\n",
    "    df[column] = df[column].fillna('unknown')"
   ]
  },
  {
   "cell_type": "code",
   "execution_count": 26,
   "metadata": {},
   "outputs": [],
   "source": [
    "# Convert 'year' to integer\n",
    "df['year'] = df['year'].astype(int)"
   ]
  },
  {
   "cell_type": "markdown",
   "metadata": {},
   "source": [
    "Next, we will identify unrealistic values in 'price' and 'odometer' using percentiles to define our bounds. Basically, we will remove data points below the 1st percentile and above the 99th percentile, keeping 98% of our data. Capping the outliers, might not be the best approach in our case, especially for luxury or high-end vehicles that legitimately have higher prices. "
   ]
  },
  {
   "cell_type": "code",
   "execution_count": 28,
   "metadata": {},
   "outputs": [],
   "source": [
    "# Function to identify and remove outliers\n",
    "def handle_outliers(df, column, lower_percentile=0.01, upper_percentile=0.99):\n",
    "    lower_bound = df[column].quantile(lower_percentile)\n",
    "    upper_bound = df[column].quantile(upper_percentile)\n",
    "    \n",
    "    print(f\"\\nFor {column}:\")\n",
    "    print(f\"Lower bound ({lower_percentile} percentile): {lower_bound}\")\n",
    "    print(f\"Upper bound ({upper_percentile} percentile): {upper_bound}\")\n",
    "    print(f\"Values below lower bound: {(df[column] < lower_bound).sum()}\")\n",
    "    print(f\"Values above upper bound: {(df[column] > upper_bound).sum()}\")\n",
    "    \n",
    "    # Remove extreme outliers\n",
    "    df = df[(df[column] >= lower_bound) & (df[column] <= upper_bound)]\n",
    "    \n",
    "    return df"
   ]
  },
  {
   "cell_type": "code",
   "execution_count": 29,
   "metadata": {},
   "outputs": [],
   "source": [
    "# Create boxplots before and after the outlier treatment\n",
    "def plot_distribution(df, column, before, after):\n",
    "    plt.figure(figsize=(12, 5))\n",
    "    \n",
    "    plt.subplot(1, 2, 1)\n",
    "    sns.histplot(before, kde=True)\n",
    "    plt.title(f'Distribution of {column} before')\n",
    "    plt.xlabel(column)\n",
    "    \n",
    "    plt.subplot(1, 2, 2)\n",
    "    sns.histplot(after, kde=True)\n",
    "    plt.title(f'Distribution of {column} after')\n",
    "    plt.xlabel(column)\n",
    "    \n",
    "    plt.tight_layout()\n",
    "    plt.show()"
   ]
  },
  {
   "cell_type": "code",
   "execution_count": 30,
   "metadata": {},
   "outputs": [],
   "source": [
    "# Remove extreme prices\n",
    "df = df[(df['price'] >= 500) & (df['price'] <= 1000000)]  "
   ]
  },
  {
   "cell_type": "code",
   "execution_count": 31,
   "metadata": {},
   "outputs": [
    {
     "name": "stdout",
     "output_type": "stream",
     "text": [
      "\n",
      "For price:\n",
      "Lower bound (0.01 percentile): 1000.0\n",
      "Upper bound (0.99 percentile): 65999.0\n",
      "Values below lower bound: 3190\n",
      "Values above upper bound: 3530\n"
     ]
    },
    {
     "data": {
      "image/png": "[encoded data removed]",
      "text/plain": [
       "<Figure size 1200x500 with 2 Axes>"
      ]
     },
     "metadata": {},
     "output_type": "display_data"
    },
    {
     "name": "stdout",
     "output_type": "stream",
     "text": [
      "\n",
      "For odometer:\n",
      "Lower bound (0.01 percentile): 106.0\n",
      "Upper bound (0.99 percentile): 267294.33\n",
      "Values below lower bound: 3465\n",
      "Values above upper bound: 3467\n"
     ]
    },
    {
     "data": {
      "image/png": "[encoded data removed]",
      "text/plain": [
       "<Figure size 1200x500 with 2 Axes>"
      ]
     },
     "metadata": {},
     "output_type": "display_data"
    }
   ],
   "source": [
    "# Apply the function to 'price' and 'odometer'\n",
    "for column in ['price', 'odometer']:\n",
    "    # Store the original data\n",
    "    original_data = df[column].copy()\n",
    "    \n",
    "    # Handle outliers\n",
    "    df = handle_outliers(df, column)\n",
    "\n",
    "    plot_distribution(df, column, original_data, df[column])"
   ]
  },
  {
   "cell_type": "markdown",
   "metadata": {},
   "source": [
    "#### Observations\n",
    "1. **Initial Distributions:**\n",
    "    * Both price and odometer distributions were highly right-skewed with extremely long tails.\n",
    "    * Unrealistic values were present: prices up to 3.7 billion and odometer readings up to 10 million miles.\n",
    "    * The majority of data points were concentrated in the lower ranges, but the scale of the x-axis made it difficult to see the details of the distributions.\n",
    "      \n",
    "2. **Cleaned Distributions:**\n",
    "    * Both distributions remain right-skewed but are now more interpretable and realistic.\n",
    "    * The bulk of prices fall between 1,000 and $40,000, while most odometer readings are between 20,000 and 150,000 miles.\n",
    "    * Clearer patterns and multiple peaks are now visible in both distributions."
   ]
  },
  {
   "cell_type": "markdown",
   "metadata": {},
   "source": [
    "#### 2. Feature Engineering\n",
    "In the feature engineering section, we will create new or transform existing features to enhance the performance of our models. The new features could help us capture hidden patterns or relationships within the data. In addition, we will convert categorical features into numerical ones because many machine learning algorithms require numerical input to work with.\n",
    "\n",
    "First, we will create a 'car_age' feature by subtracting 'year' from the current year."
   ]
  },
  {
   "cell_type": "code",
   "execution_count": 34,
   "metadata": {},
   "outputs": [],
   "source": [
    "# Create 'car_age' feature\n",
    "current_year = datetime.now().year\n",
    "df['car_age'] = current_year - df['year']"
   ]
  },
  {
   "cell_type": "markdown",
   "metadata": {},
   "source": [
    "Next, we will keep only the 100 most common models and group all others into an 'Other' category. The goal is to reduce the number of unique values in the 'model' column as they can be very specific, potentially leading to hundreds or thousands of unique values (29,649 in our case). This can cause issues in machine learning models, especially with categorical encoding."
   ]
  },
  {
   "cell_type": "code",
   "execution_count": 36,
   "metadata": {},
   "outputs": [],
   "source": [
    "# Group less frequent models\n",
    "model_counts = df['model'].value_counts()\n",
    "df['model'] = df['model'].apply(lambda x: x if x in model_counts.nlargest(100).index else 'Other')"
   ]
  },
  {
   "cell_type": "code",
   "execution_count": 37,
   "metadata": {},
   "outputs": [
    {
     "name": "stdout",
     "output_type": "stream",
     "text": [
      "<class 'pandas.core.frame.DataFrame'>\n",
      "Int64Index: 339736 entries, 27 to 426879\n",
      "Data columns (total 15 columns):\n",
      " #   Column        Non-Null Count   Dtype  \n",
      "---  ------        --------------   -----  \n",
      " 0   price         339736 non-null  int64  \n",
      " 1   year          339736 non-null  int32  \n",
      " 2   manufacturer  339736 non-null  object \n",
      " 3   model         339736 non-null  object \n",
      " 4   condition     339736 non-null  object \n",
      " 5   cylinders     339736 non-null  object \n",
      " 6   fuel          339736 non-null  object \n",
      " 7   odometer      339736 non-null  float64\n",
      " 8   title_status  339736 non-null  object \n",
      " 9   transmission  339736 non-null  object \n",
      " 10  drive         339736 non-null  object \n",
      " 11  type          339736 non-null  object \n",
      " 12  paint_color   339736 non-null  object \n",
      " 13  state         339736 non-null  object \n",
      " 14  car_age       339736 non-null  int32  \n",
      "dtypes: float64(1), int32(2), int64(1), object(11)\n",
      "memory usage: 38.9+ MB\n",
      "None\n",
      "\n",
      "Missing values after cleaning:\n",
      "price           0\n",
      "year            0\n",
      "manufacturer    0\n",
      "model           0\n",
      "condition       0\n",
      "cylinders       0\n",
      "fuel            0\n",
      "odometer        0\n",
      "title_status    0\n",
      "transmission    0\n",
      "drive           0\n",
      "type            0\n",
      "paint_color     0\n",
      "state           0\n",
      "car_age         0\n",
      "dtype: int64\n"
     ]
    }
   ],
   "source": [
    "# Print summary of the cleaned dataset\n",
    "print(df.info())\n",
    "print(\"\\nMissing values after cleaning:\")\n",
    "print(df.isnull().sum())"
   ]
  },
  {
   "cell_type": "markdown",
   "metadata": {},
   "source": [
    "#### Observation\n",
    "The cleaned dataset now has 339,736 rows and 15 columns, with no missing values. This looks like a good foundation for further processing."
   ]
  },
  {
   "cell_type": "code",
   "execution_count": 39,
   "metadata": {},
   "outputs": [
    {
     "data": {
      "text/html": [
       "<div>\n",
       "<style scoped>\n",
       "    .dataframe tbody tr th:only-of-type {\n",
       "        vertical-align: middle;\n",
       "    }\n",
       "\n",
       "    .dataframe tbody tr th {\n",
       "        vertical-align: top;\n",
       "    }\n",
       "\n",
       "    .dataframe thead th {\n",
       "        text-align: right;\n",
       "    }\n",
       "</style>\n",
       "<table border=\"1\" class=\"dataframe\">\n",
       "  <thead>\n",
       "    <tr style=\"text-align: right;\">\n",
       "      <th></th>\n",
       "      <th>price</th>\n",
       "      <th>year</th>\n",
       "      <th>manufacturer</th>\n",
       "      <th>model</th>\n",
       "      <th>condition</th>\n",
       "      <th>cylinders</th>\n",
       "      <th>fuel</th>\n",
       "      <th>odometer</th>\n",
       "      <th>title_status</th>\n",
       "      <th>transmission</th>\n",
       "      <th>drive</th>\n",
       "      <th>type</th>\n",
       "      <th>paint_color</th>\n",
       "      <th>state</th>\n",
       "      <th>car_age</th>\n",
       "    </tr>\n",
       "  </thead>\n",
       "  <tbody>\n",
       "    <tr>\n",
       "      <th>55306</th>\n",
       "      <td>9000</td>\n",
       "      <td>1999</td>\n",
       "      <td>chevrolet</td>\n",
       "      <td>camaro</td>\n",
       "      <td>good</td>\n",
       "      <td>8 cylinders</td>\n",
       "      <td>gas</td>\n",
       "      <td>139455.0</td>\n",
       "      <td>clean</td>\n",
       "      <td>manual</td>\n",
       "      <td>rwd</td>\n",
       "      <td>coupe</td>\n",
       "      <td>black</td>\n",
       "      <td>ca</td>\n",
       "      <td>25</td>\n",
       "    </tr>\n",
       "    <tr>\n",
       "      <th>335175</th>\n",
       "      <td>3995</td>\n",
       "      <td>2001</td>\n",
       "      <td>chevrolet</td>\n",
       "      <td>Other</td>\n",
       "      <td>good</td>\n",
       "      <td>6 cylinders</td>\n",
       "      <td>gas</td>\n",
       "      <td>167050.0</td>\n",
       "      <td>clean</td>\n",
       "      <td>automatic</td>\n",
       "      <td>4wd</td>\n",
       "      <td>mini-van</td>\n",
       "      <td>red</td>\n",
       "      <td>pa</td>\n",
       "      <td>23</td>\n",
       "    </tr>\n",
       "    <tr>\n",
       "      <th>33536</th>\n",
       "      <td>11340</td>\n",
       "      <td>2004</td>\n",
       "      <td>toyota</td>\n",
       "      <td>tacoma</td>\n",
       "      <td>unknown</td>\n",
       "      <td>unknown</td>\n",
       "      <td>gas</td>\n",
       "      <td>107524.0</td>\n",
       "      <td>clean</td>\n",
       "      <td>automatic</td>\n",
       "      <td>unknown</td>\n",
       "      <td>unknown</td>\n",
       "      <td>unknown</td>\n",
       "      <td>ca</td>\n",
       "      <td>20</td>\n",
       "    </tr>\n",
       "    <tr>\n",
       "      <th>42333</th>\n",
       "      <td>35950</td>\n",
       "      <td>2018</td>\n",
       "      <td>chevrolet</td>\n",
       "      <td>Other</td>\n",
       "      <td>excellent</td>\n",
       "      <td>8 cylinders</td>\n",
       "      <td>gas</td>\n",
       "      <td>102365.0</td>\n",
       "      <td>clean</td>\n",
       "      <td>automatic</td>\n",
       "      <td>4wd</td>\n",
       "      <td>truck</td>\n",
       "      <td>white</td>\n",
       "      <td>ca</td>\n",
       "      <td>6</td>\n",
       "    </tr>\n",
       "    <tr>\n",
       "      <th>108414</th>\n",
       "      <td>6500</td>\n",
       "      <td>2010</td>\n",
       "      <td>chrysler</td>\n",
       "      <td>Other</td>\n",
       "      <td>good</td>\n",
       "      <td>6 cylinders</td>\n",
       "      <td>gas</td>\n",
       "      <td>93000.0</td>\n",
       "      <td>clean</td>\n",
       "      <td>automatic</td>\n",
       "      <td>unknown</td>\n",
       "      <td>mini-van</td>\n",
       "      <td>unknown</td>\n",
       "      <td>fl</td>\n",
       "      <td>14</td>\n",
       "    </tr>\n",
       "  </tbody>\n",
       "</table>\n",
       "</div>"
      ],
      "text/plain": [
       "        price  year manufacturer   model  condition    cylinders fuel  \\\n",
       "55306    9000  1999    chevrolet  camaro       good  8 cylinders  gas   \n",
       "335175   3995  2001    chevrolet   Other       good  6 cylinders  gas   \n",
       "33536   11340  2004       toyota  tacoma    unknown      unknown  gas   \n",
       "42333   35950  2018    chevrolet   Other  excellent  8 cylinders  gas   \n",
       "108414   6500  2010     chrysler   Other       good  6 cylinders  gas   \n",
       "\n",
       "        odometer title_status transmission    drive      type paint_color  \\\n",
       "55306   139455.0        clean       manual      rwd     coupe       black   \n",
       "335175  167050.0        clean    automatic      4wd  mini-van         red   \n",
       "33536   107524.0        clean    automatic  unknown   unknown     unknown   \n",
       "42333   102365.0        clean    automatic      4wd     truck       white   \n",
       "108414   93000.0        clean    automatic  unknown  mini-van     unknown   \n",
       "\n",
       "       state  car_age  \n",
       "55306     ca       25  \n",
       "335175    pa       23  \n",
       "33536     ca       20  \n",
       "42333     ca        6  \n",
       "108414    fl       14  "
      ]
     },
     "execution_count": 39,
     "metadata": {},
     "output_type": "execute_result"
    }
   ],
   "source": [
    "df.sample(5)"
   ]
  },
  {
   "cell_type": "markdown",
   "metadata": {},
   "source": [
    "Lastly, we will use `OneHotEncoder()` to convert categorical features into numerical ones, then standardize them using `StandardScaler()` and we will use `ColumnTransformer()` to apply these steps."
   ]
  },
  {
   "cell_type": "code",
   "execution_count": 41,
   "metadata": {},
   "outputs": [],
   "source": [
    "# Encode categorical variables and apply scaling to numerical features\n",
    "categorical_columns = ['manufacturer', 'model', 'condition', 'cylinders', 'fuel', \n",
    "                       'title_status', 'transmission', 'drive', 'type', 'paint_color', 'state']\n",
    "numerical_columns = ['year', 'odometer', 'car_age']\n",
    "\n",
    "# Create the preprocessor\n",
    "preprocessor = ColumnTransformer(transformers=[\n",
    "        ('num', StandardScaler(), numerical_columns),\n",
    "        ('cat', OneHotEncoder(handle_unknown='ignore'), categorical_columns)])"
   ]
  },
  {
   "cell_type": "markdown",
   "metadata": {},
   "source": [
    "To prepare our data for modeling, we will split the data into training and testing sets and apply the preprocessor on the training data and transform both training and test data."
   ]
  },
  {
   "cell_type": "code",
   "execution_count": 43,
   "metadata": {},
   "outputs": [],
   "source": [
    "X = df.drop('price', axis=1)\n",
    "y = df['price']\n",
    "\n",
    "# Split the data\n",
    "X_train, X_test, y_train, y_test = train_test_split(X, y, test_size=0.2, random_state=42)"
   ]
  },
  {
   "cell_type": "code",
   "execution_count": 44,
   "metadata": {},
   "outputs": [],
   "source": [
    "# Fit the preprocessor on the training data and transform both training and test data\n",
    "X_train_processed = preprocessor.fit_transform(X_train)\n",
    "X_test_processed = preprocessor.transform(X_test)"
   ]
  },
  {
   "cell_type": "code",
   "execution_count": 45,
   "metadata": {},
   "outputs": [
    {
     "name": "stdout",
     "output_type": "stream",
     "text": [
      "Shape of processed training data: (271788, 257)\n",
      "Shape of processed test data: (67948, 257)\n"
     ]
    }
   ],
   "source": [
    "# The data is now ready for modeling!\n",
    "print(\"Shape of processed training data:\", X_train_processed.shape)\n",
    "print(\"Shape of processed test data:\", X_test_processed.shape)"
   ]
  },
  {
   "cell_type": "markdown",
   "metadata": {},
   "source": [
    "### Modeling\n",
    "With our dataset prepared and processed, we can now build and evaluate different regression models to predict used car prices. We will compare several models to determine which performs best for our task."
   ]
  },
  {
   "cell_type": "markdown",
   "metadata": {},
   "source": [
    "#### 1. Model Training and Evaluation Function\n",
    "First, we will define a function to train models, make predictions, and evaluate their performance by calculating three key metrics:\n",
    "\n",
    "* **Root Mean Square Error (RMSE):** Measures the standard deviation of the residuals (prediction errors), lower values indicate better fit and is in the same unit as the target variable (price).\n",
    "* **R-squared (R2):** Represents the proportion of variance in the target that is predictable from the features and it ranges from 0 to 1, with 1 indicating perfect prediction.\n",
    "* **Cross-validated RMSE:** Provides an estimate of how well the model is likely to perform on unseen data."
   ]
  },
  {
   "cell_type": "code",
   "execution_count": 48,
   "metadata": {},
   "outputs": [],
   "source": [
    "def train_and_evaluate(model, X_train, X_test, y_train, y_test):\n",
    "    # Train the model\n",
    "    model.fit(X_train, y_train)\n",
    "    \n",
    "    # Make predictions\n",
    "    y_pred = model.predict(X_test)\n",
    "    \n",
    "    # Calculate metrics\n",
    "    mse = mean_squared_error(y_test, y_pred)\n",
    "    rmse = np.sqrt(mse)\n",
    "    r2 = r2_score(y_test, y_pred)\n",
    "    \n",
    "    # Perform cross-validation\n",
    "    cv_scores = cross_val_score(model, X_train, y_train, cv=3, scoring='neg_mean_squared_error')\n",
    "    cv_rmse = np.sqrt(-cv_scores.mean())\n",
    "    \n",
    "    return rmse, r2, cv_rmse"
   ]
  },
  {
   "cell_type": "markdown",
   "metadata": {},
   "source": [
    "#### 2. Model Selection and Training\n",
    "We will choose three different types of models: Linear Regression, Decision Tree, and Random Forest as it provides a good range from simple (linear) to complex (ensemble) models.\n",
    "\n",
    "* **Linear Regression:** A simple model that assumes a linear relationship between features and target\n",
    "* **Decision Tree:** A non-linear model that makes decisions based on asking a series of questions\n",
    "* **Random Forest:** An ensemble of decision trees, often providing better performance than a single tree"
   ]
  },
  {
   "cell_type": "code",
   "execution_count": 50,
   "metadata": {},
   "outputs": [],
   "source": [
    "# Initialize models\n",
    "models = {'Linear Regression': LinearRegression(),\n",
    "          'Decision Tree': DecisionTreeRegressor(random_state=42),\n",
    "          'Random Forest': RandomForestRegressor(n_estimators=50, random_state=42, n_jobs=-1)}"
   ]
  },
  {
   "cell_type": "code",
   "execution_count": 51,
   "metadata": {},
   "outputs": [
    {
     "name": "stdout",
     "output_type": "stream",
     "text": [
      "\n",
      "Training Linear Regression...\n",
      "Linear Regression - RMSE: 7149.89, R2: 0.70, CV RMSE: 7192.92\n",
      "\n",
      "Training Decision Tree...\n",
      "Decision Tree - RMSE: 4586.72, R2: 0.88, CV RMSE: 4967.78\n",
      "\n",
      "Training Random Forest...\n",
      "Random Forest - RMSE: 3488.60, R2: 0.93, CV RMSE: 3752.15\n"
     ]
    }
   ],
   "source": [
    "# Train and evaluate each model\n",
    "results = {}\n",
    "for name, model in models.items():\n",
    "    print(f\"\\nTraining {name}...\")\n",
    "    rmse, r2, cv_rmse = train_and_evaluate(model, X_train_processed, X_test_processed, y_train, y_test)\n",
    "    results[name] = {'RMSE': rmse, 'R2': r2, 'CV RMSE': cv_rmse}\n",
    "    print(f\"{name} - RMSE: {rmse:.2f}, R2: {r2:.2f}, CV RMSE: {cv_rmse:.2f}\")"
   ]
  },
  {
   "cell_type": "markdown",
   "metadata": {},
   "source": [
    "In the next section, we will interpret the results and take a deeper look to gain insights into the factors influencing used car prices."
   ]
  },
  {
   "cell_type": "markdown",
   "metadata": {},
   "source": [
    "### Evaluation\n",
    "In this section, we will assess the performance of our models and extract meaningful insights about the drivers of used car prices. We will review our findings in the context of our business objective: to provide valuable insights to used car dealers for fine-tuning their inventory."
   ]
  },
  {
   "cell_type": "markdown",
   "metadata": {},
   "source": [
    "#### 1. Initial Model Performance\n",
    "We trained and evaluated three different models: Linear Regression, Decision Tree, and Random Forest. Here are the results:"
   ]
  },
  {
   "cell_type": "code",
   "execution_count": 55,
   "metadata": {},
   "outputs": [
    {
     "name": "stdout",
     "output_type": "stream",
     "text": [
      "\n",
      "Model Comparison:\n",
      "                          RMSE        R2      CV RMSE\n",
      "Linear Regression  7149.892903  0.699906  7192.924377\n",
      "Decision Tree      4586.718552  0.876501  4967.779778\n",
      "Random Forest      3488.602268  0.928557  3752.146480\n",
      "\n",
      "Best model based on test RMSE: Random Forest\n"
     ]
    }
   ],
   "source": [
    "# Print summary of results\n",
    "print(\"\\nModel Comparison:\")\n",
    "results_df = pd.DataFrame(results).T\n",
    "print(results_df)\n",
    "\n",
    "# Identify the best model based on test RMSE\n",
    "best_model = min(results, key=lambda x: results[x]['RMSE'])\n",
    "print(f\"\\nBest model based on test RMSE: {best_model}\")"
   ]
  },
  {
   "cell_type": "markdown",
   "metadata": {},
   "source": [
    "#### Observations\n",
    "* Random Forest performed the best with an RMSE of 3488.60 and R² of 0.93 and Decision Tree was the second best with an RMSE of 4586.72 and R² of 0.88.\n",
    "* Non-linear models such as Random Forest and Decision Tree performed much better than the linear model, which suggest that the relationship between the features and car prices are complex and non-linear.\n",
    "* 3-fold cross-validation was used and the cross-validation RMSE scores are close to the test RMSE scores for all models, indicating good generalization. This means our models, particularly the Random Forest, are likely to perform well on new, unseen data."
   ]
  },
  {
   "cell_type": "markdown",
   "metadata": {},
   "source": [
    "#### 2. Grid Search for Random Forest Hyperparameters\n",
    "Next, we will perform a grid search for the Random Forest model to find the best combination of hyperparameters."
   ]
  },
  {
   "cell_type": "code",
   "execution_count": 58,
   "metadata": {},
   "outputs": [
    {
     "name": "stdout",
     "output_type": "stream",
     "text": [
      "Performing Grid Search for Random Forest...\n",
      "Fitting 3 folds for each of 2 candidates, totalling 6 fits\n",
      "Best parameters: {'n_estimators': 100}\n"
     ]
    }
   ],
   "source": [
    "# Grid Search for Random Forest Hyperparameters\n",
    "print(\"Performing Grid Search for Random Forest...\")\n",
    "param_grid = {\n",
    "    'n_estimators': [50, 100]}\n",
    "\n",
    "rf = RandomForestRegressor(random_state=42)\n",
    "grid_search = GridSearchCV(estimator=rf, param_grid=param_grid, \n",
    "                           cv=3, n_jobs=-1, verbose=2, scoring='neg_mean_squared_error')\n",
    "grid_search.fit(X_train_processed, y_train)\n",
    "\n",
    "print(\"Best parameters:\", grid_search.best_params_)\n",
    "best_rf = grid_search.best_estimator_"
   ]
  },
  {
   "cell_type": "code",
   "execution_count": 59,
   "metadata": {},
   "outputs": [
    {
     "name": "stdout",
     "output_type": "stream",
     "text": [
      "Random Forest - RMSE: 3466.34, R2: 0.93\n"
     ]
    }
   ],
   "source": [
    "# Evaluate the best model\n",
    "y_pred_rf = best_rf.predict(X_test_processed)\n",
    "rmse_rf = np.sqrt(mean_squared_error(y_test, y_pred_rf))\n",
    "r2_rf = r2_score(y_test, y_pred_rf)\n",
    "print(f\"Random Forest - RMSE: {rmse_rf:.2f}, R2: {r2_rf:.2f}\")"
   ]
  },
  {
   "cell_type": "markdown",
   "metadata": {},
   "source": [
    "#### Observation\n",
    "After tuning, the Random Forest performance improved slightly: RMSE of 3466.34, R² of 0.93. With more time and resources, we could expand the grid search to include more hyperparameters in the future."
   ]
  },
  {
   "cell_type": "markdown",
   "metadata": {},
   "source": [
    "#### 3. Feature Importance\n",
    "Next we will examine feature importances to understand which factors are most influential in determining car prices based on our best model."
   ]
  },
  {
   "cell_type": "code",
   "execution_count": 61,
   "metadata": {},
   "outputs": [],
   "source": [
    "# Get feature names for numerical columns (they remain unchanged)\n",
    "numeric_feature_names = numerical_columns\n",
    "\n",
    "# Get feature names for categorical columns (they are expanded due to one-hot encoding)\n",
    "categorical_feature_names = preprocessor.named_transformers_['cat'].get_feature_names_out(categorical_columns)\n",
    "\n",
    "# Combine all feature names\n",
    "feature_names = np.concatenate([numeric_feature_names, categorical_feature_names])"
   ]
  },
  {
   "cell_type": "code",
   "execution_count": 62,
   "metadata": {},
   "outputs": [],
   "source": [
    "# Get feature importances from the Random Forest model\n",
    "rf_model = models['Random Forest']\n",
    "importances = rf_model.feature_importances_\n",
    "\n",
    "# Create a dataframe of feature importances\n",
    "feature_imp = pd.DataFrame({'feature': feature_names, 'importance': importances})\n",
    "feature_imp = feature_imp.sort_values('importance', ascending=False).head(10)"
   ]
  },
  {
   "cell_type": "code",
   "execution_count": 63,
   "metadata": {},
   "outputs": [
    {
     "name": "stdout",
     "output_type": "stream",
     "text": [
      "\n",
      "Top 10 most important features:\n",
      "                   feature  importance\n",
      "2                  car_age    0.266632\n",
      "0                     year    0.189887\n",
      "1                 odometer    0.112000\n",
      "176              drive_fwd    0.081963\n",
      "161            fuel_diesel    0.063953\n",
      "158  cylinders_8 cylinders    0.025886\n",
      "155  cylinders_4 cylinders    0.019324\n",
      "175              drive_4wd    0.017889\n",
      "187            type_pickup    0.009209\n",
      "157  cylinders_6 cylinders    0.005975\n"
     ]
    }
   ],
   "source": [
    "print(\"\\nTop 10 most important features:\")\n",
    "print(feature_imp)\n",
    "feature_imp = feature_imp.sort_values('importance', ascending=True)"
   ]
  },
  {
   "cell_type": "code",
   "execution_count": 180,
   "metadata": {},
   "outputs": [
    {
     "data": {
      "image/png": "[encoded data removed]",
      "text/plain": [
       "<Figure size 1000x500 with 1 Axes>"
      ]
     },
     "metadata": {},
     "output_type": "display_data"
    }
   ],
   "source": [
    "# Plot feature importances\n",
    "plt.figure(figsize=(10, 5))\n",
    "bars = plt.barh(feature_imp['feature'], feature_imp['importance'])\n",
    "plt.title('Top 10 Most Important Features')\n",
    "\n",
    "# Add text annotations\n",
    "for i, bar in enumerate(bars):\n",
    "    width = bar.get_width()\n",
    "    plt.text(width, \n",
    "             bar.get_y() + bar.get_height()/2, \n",
    "             f'{width:.2f}', \n",
    "             ha='left', \n",
    "             va='center',\n",
    "             fontweight='bold',\n",
    "             fontsize=10)\n",
    "\n",
    "# Adjust layout and display\n",
    "plt.xlabel('Importance', fontsize=12)\n",
    "plt.ylabel('Features', fontsize=12)\n",
    "plt.tight_layout()\n",
    "plt.show()"
   ]
  },
  {
   "cell_type": "markdown",
   "metadata": {},
   "source": [
    "#### Observations\n",
    "* **Age and Year:** 'car_age' and 'year' are the two most important features, accounting for about 45% of the total importance. This aligns with common knowledge that a car's age significantly impacts its value.\n",
    "* **Mileage:** 'odometer' is the third most important feature, suggesting that the distance a car has been driven significantly impacts its price. This also aligns with typical car valuation factors.\n",
    "* **Drive Type:** 'drive_fwd' (front-wheel drive) is the fourth most important feature, indicating that the front-wheel drive type significantly influences the price compared to other drive types.\n",
    "* **Fuel Type:** 'fuel_diesel' is the fifth most important feature, suggesting that diesel cars are priced differently from other fuel types."
   ]
  },
  {
   "cell_type": "markdown",
   "metadata": {},
   "source": [
    "### Deployment\n",
    "Now that we've developed our model and gained insights into the factors affecting used car prices, it's time to translate our findings into actionable recommendations for our client - a group of used car dealers interested in fine-tuning their inventory. Here's a summary report of our findings and recommendations:"
   ]
  },
  {
   "cell_type": "markdown",
   "metadata": {},
   "source": [
    "#### 1. Executive Summary\n",
    "Our analysis of the used car market has revealed key factors that influence car prices. This information can help you optimize your inventory and pricing strategies to maximize profitability and turnover."
   ]
  },
  {
   "cell_type": "markdown",
   "metadata": {},
   "source": [
    "#### 2. Key Findings\n",
    "\n",
    "**Model Performance:** Our Random Forest model achieved the best performance with an R² of 0.93, indicating that our model can explain 93% of the variance in car prices. This high accuracy suggests that our model can provide reliable price estimates for used cars.\n",
    "\n",
    "**Most Important Factors Affecting Car Prices:**\n",
    "\n",
    "1. **Age and Year:** The age of the car and its year of manufacture are the two most crucial factors in determining price. Newer cars would be obvious to command higher prices.\n",
    "2. **Mileage:** The odometer reading is the third most important factor. Lower mileage vehicles are generally priced higher.\n",
    "3. **Drive Type:** Front-wheel drive (FWD) vehicles have a significant impact on pricing.\n",
    "4. **Fuel Type:** Diesel vehicles have distinct pricing characteristics compared to other fuel types."
   ]
  },
  {
   "cell_type": "markdown",
   "metadata": {},
   "source": [
    "#### 3. Recommendations\n",
    "1. **Focus on Newer, Low-Mileage Vehicles:** Prioritize stocking newer cars with lower mileage, as these factors most strongly influence price and potential profit margins.\n",
    "2. **Diverse Drive Types:** Maintain a balance of different drive types in your inventory, with a slight emphasis on front-wheel drive vehicles.\n",
    "3. **Fuel Type Considerations:** Pay special attention to diesel vehicles when pricing, as they have distinct value characteristics.\n",
    "4. **Regular Revaluation:** Given the importance of age and mileage, regularly update your pricing to reflect these changing factors."
   ]
  },
  {
   "cell_type": "markdown",
   "metadata": {},
   "source": [
    "#### 4. Model Limitations and Future Improvements\n",
    "1. While our model performs well, there's always room for improvement. We could explore more advanced ensemble methods or deep learning approaches.\n",
    "2. Establish a process for your team to provide feedback on the model's predictions and overall usefulness.\n",
    "3. We recommend updating the model quarterly with new market data to ensure its continued accuracy in a changing market.\n",
    "\n",
    "By leveraging these insights, you can make more informed decisions about which cars to stock and how to price them competitively in the used car market."
   ]
  },
  {
   "cell_type": "code",
   "execution_count": null,
   "metadata": {},
   "outputs": [],
   "source": []
  }
 ],
 "metadata": {
  "kernelspec": {
   "display_name": "Python 3 (ipykernel)",
   "language": "python",
   "name": "python3"
  },
  "language_info": {
   "codemirror_mode": {
    "name": "ipython",
    "version": 3
   },
   "file_extension": ".py",
   "mimetype": "text/x-python",
   "name": "python",
   "nbconvert_exporter": "python",
   "pygments_lexer": "ipython3",
   "version": "3.11.7"
  },
  "widgets": {
   "application/vnd.jupyter.widget-state+json": {
    "state": {},
    "version_major": 2,
    "version_minor": 0
   }
  }
 },
 "nbformat": 4,
 "nbformat_minor": 4
}
